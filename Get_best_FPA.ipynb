{
 "cells": [
  {
   "cell_type": "code",
   "execution_count": 5,
   "metadata": {},
   "outputs": [],
   "source": [
    "import numpy as np\n",
    "import pandas as pd\n",
    "\n",
    "import os"
   ]
  },
  {
   "cell_type": "code",
   "execution_count": 30,
   "metadata": {},
   "outputs": [],
   "source": [
    "def get_data():\n",
    "    \"\"\"\n",
    "    ***************************************************************\n",
    "        功能：获取原始模块数据：\n",
    "        输出：一个二维列表，分别模块列表名称和相应的DataFrame格式表格\n",
    "        备注：默认数据都在当前文件夹的data文件夹里面，data文件夹下面有ant,\n",
    "        jedit,ivy,synapse四个文件夹，分别储存五种数据的csv文件。\n",
    "\n",
    "\n",
    "        Menu:\n",
    "            Project.py\n",
    "            Data\n",
    "                -ant\n",
    "                    -ant-1.3.csv\n",
    "                    -ant-1.4.csv\n",
    "                    -...\n",
    "                -jedit\n",
    "                -ivy\n",
    "                -synapse\n",
    "    ***************************************************************\n",
    "    \"\"\"\n",
    "    path = os.getcwd()+'/Data'\n",
    "    name0 = []\n",
    "    output = []\n",
    "    for i in ['ant','ivy','jedit','synapse','lucene','velocity']:\n",
    "            sub_path = path+'/'+i\n",
    "            for j in os.listdir(sub_path):\n",
    "                data = pd.read_csv(sub_path+'/'+j,engine='python')\n",
    "                data = data.iloc[:,5:]\n",
    "                output.append(data)\n",
    "                name0.append(j)\n",
    "    return name0, output"
   ]
  },
  {
   "cell_type": "code",
   "execution_count": 20,
   "metadata": {},
   "outputs": [],
   "source": [
    "def FPA_Judge(dataset):\n",
    "    \"\"\"\n",
    "    ***************************************************************\n",
    "        功能：FPA评价函数\n",
    "        输入：dataset-经过预测后的数据集，在函数中数据处理得到testBug和testPre\n",
    "             testBug-模块Bug实际值，testPre-模块Bug预测值\n",
    "        输出：FPA值\n",
    "    ***************************************************************\n",
    "    \"\"\"\n",
    "    testBug = dataset['bug']\n",
    "    testPre = dataset['bug']\n",
    "    K = len(testBug)\n",
    "    N = np.sum(testBug)\n",
    "    \n",
    "    sort_axis = np.argsort(testPre)\n",
    "    testBug=np.array(testBug)\n",
    "    testBug = testBug[sort_axis]\n",
    "    P = sum(np.sum(testBug[m:])/N for m in range(K+1))/K\n",
    "    return P"
   ]
  },
  {
   "cell_type": "code",
   "execution_count": 32,
   "metadata": {},
   "outputs": [
    {
     "name": "stdout",
     "output_type": "stream",
     "text": [
      "1 ant-1.4.csv 0.9054506335166146\n",
      "2 ant-1.7.csv 0.9297883324728966\n",
      "3 ant-1.6.csv 0.9142821751517404\n",
      "4 ant-1.5.csv 0.9513408093612872\n",
      "5 ant-1.3.csv 0.9437575757575757\n",
      "6 ivy-1.4.csv 0.9723374827109267\n",
      "7 ivy-1.1.csv 0.8668754591501374\n",
      "8 ivy-2.0.csv 0.9567775974025974\n",
      "9 jedit-3.2.csv 0.9262203572528488\n",
      "10 jedit-4.0.csv 0.9413789114465851\n",
      "11 jedit-4.2.csv 0.9627268520898666\n",
      "12 jedit-4.1.csv 0.9320424199456443\n",
      "13 jedit-4.3.csv 0.9906842818428184\n",
      "14 synapse-1.2.csv 0.8841864224137931\n",
      "15 synapse-1.1.csv 0.9079989079989073\n",
      "16 synapse-1.0.csv 0.9626933575978162\n",
      "17 lucene-2.0.csv 0.8813050133945658\n",
      "18 lucene-2.2.csv 0.8468677267304271\n",
      "19 lucene-2.4.csv 0.8306031273268805\n",
      "20 velocity-1.4.csv 0.71530612244898\n",
      "21 velocity-1.5.csv 0.7989242454188651\n",
      "22 velocity-1.6.csv 0.90112617789014\n"
     ]
    }
   ],
   "source": [
    "num = 1\n",
    "result = []\n",
    "for (i,j) in zip(*get_data()):\n",
    "    print(num, i, FPA_Judge(j))\n",
    "    result.append(FPA_Judge(j))\n",
    "    num += 1\n",
    "pd.DataFrame(result).to_csv('FPA.csv')"
   ]
  }
 ],
 "metadata": {
  "kernelspec": {
   "display_name": "Python 3",
   "language": "python",
   "name": "python3"
  },
  "language_info": {
   "codemirror_mode": {
    "name": "ipython",
    "version": 3
   },
   "file_extension": ".py",
   "mimetype": "text/x-python",
   "name": "python",
   "nbconvert_exporter": "python",
   "pygments_lexer": "ipython3",
   "version": "3.6.5"
  }
 },
 "nbformat": 4,
 "nbformat_minor": 2
}
