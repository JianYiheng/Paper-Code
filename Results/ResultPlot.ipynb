{
 "cells": [
  {
   "cell_type": "code",
   "execution_count": 1,
   "metadata": {},
   "outputs": [],
   "source": [
    "import numpy as np\n",
    "import pandas as pd\n",
    "import matplotlib.pyplot as plt\n",
    "\n",
    "from IPython.display import display"
   ]
  },
  {
   "cell_type": "code",
   "execution_count": 2,
   "metadata": {},
   "outputs": [],
   "source": [
    "def get_data():\n",
    "    data_list = ['Bayes.csv', 'DescionTree.csv', 'Linear.csv']\n",
    "    combine_list = []\n",
    "    for i in data_list:\n",
    "        temp = pd.read_csv(i).loc[:21,['SMOTE&Bagging', 'Normal']]\n",
    "        combine_list.append(temp)\n",
    "    result = pd.concat(combine_list, axis=1)\n",
    "    result.columns = ['BRR', 'BRR_RAW', 'DTR', 'DTR_RAW', 'LR', 'LR_RAW']\n",
    "    return result"
   ]
  },
  {
   "cell_type": "code",
   "execution_count": 10,
   "metadata": {},
   "outputs": [],
   "source": [
    "def get_improve():\n",
    "    fpa = pd.read_csv('FPA.csv')\n",
    "    data = get_data()\n",
    "    improve = pd.concat([data, fpa], axis=1)\n",
    "    result = []\n",
    "    for i in ['BRR', 'DTR', 'LR']:\n",
    "        imp0 = (improve.loc[:, 'FPA'] - improve.loc[:, i]) / improve.loc[:, 'FPA']\n",
    "        imp1 = (improve.loc[:, 'FPA'] - improve.loc[:, i+'_RAW']) / improve.loc[:, 'FPA']\n",
    "        result.append((imp1-imp0)/imp0)\n",
    "    result = pd.concat(result, axis=1)\n",
    "    result.columns = ['BRR', 'DTR', 'LR']\n",
    "    return result"
   ]
  },
  {
   "cell_type": "code",
   "execution_count": 4,
   "metadata": {},
   "outputs": [],
   "source": [
    "def draw_fig1():\n",
    "    fig1_data = get_data()\n",
    "    plt.style.use('default')\n",
    "    plt.boxplot(fig1_data.T, showmeans=True, labels=['BRR', 'BRR_RAW', 'DTR', 'DTR_RAW', 'LR', 'LR_RAW'])"
   ]
  },
  {
   "cell_type": "code",
   "execution_count": 5,
   "metadata": {},
   "outputs": [],
   "source": [
    "def draw_fig2():\n",
    "    fig1_data = get_improve()\n",
    "    plt.style.use('default')\n",
    "    plt.boxplot(fig1_data.T, showmeans=True, labels=['BRR', 'DTR', 'LR'])"
   ]
  },
  {
   "cell_type": "code",
   "execution_count": 6,
   "metadata": {},
   "outputs": [
    {
     "data": {
      "image/png": "[encoded data removed]",
      "text/plain": [
       "<Figure size 640x480 with 1 Axes>"
      ]
     },
     "metadata": {},
     "output_type": "display_data"
    }
   ],
   "source": [
    "draw_fig1()"
   ]
  },
  {
   "cell_type": "code",
   "execution_count": 7,
   "metadata": {},
   "outputs": [
    {
     "data": {
      "image/png": "[encoded data removed]",
      "text/plain": [
       "<Figure size 640x480 with 1 Axes>"
      ]
     },
     "metadata": {},
     "output_type": "display_data"
    }
   ],
   "source": [
    "draw_fig2()"
   ]
  },
  {
   "cell_type": "code",
   "execution_count": 11,
   "metadata": {},
   "outputs": [
    {
     "data": {
      "text/html": [
       "<div>\n",
       "<style scoped>\n",
       "    .dataframe tbody tr th:only-of-type {\n",
       "        vertical-align: middle;\n",
       "    }\n",
       "\n",
       "    .dataframe tbody tr th {\n",
       "        vertical-align: top;\n",
       "    }\n",
       "\n",
       "    .dataframe thead th {\n",
       "        text-align: right;\n",
       "    }\n",
       "</style>\n",
       "<table border=\"1\" class=\"dataframe\">\n",
       "  <thead>\n",
       "    <tr style=\"text-align: right;\">\n",
       "      <th></th>\n",
       "      <th>BRR</th>\n",
       "      <th>DTR</th>\n",
       "      <th>LR</th>\n",
       "    </tr>\n",
       "  </thead>\n",
       "  <tbody>\n",
       "    <tr>\n",
       "      <th>0</th>\n",
       "      <td>0.397249</td>\n",
       "      <td>0.440605</td>\n",
       "      <td>-0.043436</td>\n",
       "    </tr>\n",
       "    <tr>\n",
       "      <th>1</th>\n",
       "      <td>0.059177</td>\n",
       "      <td>0.168838</td>\n",
       "      <td>0.171882</td>\n",
       "    </tr>\n",
       "    <tr>\n",
       "      <th>2</th>\n",
       "      <td>0.237261</td>\n",
       "      <td>0.143085</td>\n",
       "      <td>0.173859</td>\n",
       "    </tr>\n",
       "    <tr>\n",
       "      <th>3</th>\n",
       "      <td>0.227254</td>\n",
       "      <td>0.155955</td>\n",
       "      <td>0.122554</td>\n",
       "    </tr>\n",
       "    <tr>\n",
       "      <th>4</th>\n",
       "      <td>0.204278</td>\n",
       "      <td>0.267993</td>\n",
       "      <td>0.179264</td>\n",
       "    </tr>\n",
       "    <tr>\n",
       "      <th>5</th>\n",
       "      <td>0.000000</td>\n",
       "      <td>0.132092</td>\n",
       "      <td>0.000000</td>\n",
       "    </tr>\n",
       "    <tr>\n",
       "      <th>6</th>\n",
       "      <td>0.090728</td>\n",
       "      <td>-0.081396</td>\n",
       "      <td>-0.198486</td>\n",
       "    </tr>\n",
       "    <tr>\n",
       "      <th>7</th>\n",
       "      <td>0.326025</td>\n",
       "      <td>0.243451</td>\n",
       "      <td>0.124416</td>\n",
       "    </tr>\n",
       "    <tr>\n",
       "      <th>8</th>\n",
       "      <td>0.133383</td>\n",
       "      <td>1.819778</td>\n",
       "      <td>0.007859</td>\n",
       "    </tr>\n",
       "    <tr>\n",
       "      <th>9</th>\n",
       "      <td>-0.003911</td>\n",
       "      <td>0.422218</td>\n",
       "      <td>-0.115544</td>\n",
       "    </tr>\n",
       "    <tr>\n",
       "      <th>10</th>\n",
       "      <td>-0.012225</td>\n",
       "      <td>0.254074</td>\n",
       "      <td>-0.036218</td>\n",
       "    </tr>\n",
       "    <tr>\n",
       "      <th>11</th>\n",
       "      <td>0.379145</td>\n",
       "      <td>0.368545</td>\n",
       "      <td>0.644672</td>\n",
       "    </tr>\n",
       "    <tr>\n",
       "      <th>12</th>\n",
       "      <td>0.025503</td>\n",
       "      <td>0.067659</td>\n",
       "      <td>0.019108</td>\n",
       "    </tr>\n",
       "    <tr>\n",
       "      <th>13</th>\n",
       "      <td>0.516373</td>\n",
       "      <td>0.022105</td>\n",
       "      <td>0.059289</td>\n",
       "    </tr>\n",
       "    <tr>\n",
       "      <th>14</th>\n",
       "      <td>0.114107</td>\n",
       "      <td>-0.034407</td>\n",
       "      <td>0.000617</td>\n",
       "    </tr>\n",
       "    <tr>\n",
       "      <th>15</th>\n",
       "      <td>-0.003446</td>\n",
       "      <td>0.092338</td>\n",
       "      <td>0.104981</td>\n",
       "    </tr>\n",
       "    <tr>\n",
       "      <th>16</th>\n",
       "      <td>0.131671</td>\n",
       "      <td>0.120394</td>\n",
       "      <td>0.000791</td>\n",
       "    </tr>\n",
       "    <tr>\n",
       "      <th>17</th>\n",
       "      <td>0.000000</td>\n",
       "      <td>0.060398</td>\n",
       "      <td>0.000000</td>\n",
       "    </tr>\n",
       "    <tr>\n",
       "      <th>18</th>\n",
       "      <td>0.000000</td>\n",
       "      <td>0.048361</td>\n",
       "      <td>0.000000</td>\n",
       "    </tr>\n",
       "    <tr>\n",
       "      <th>19</th>\n",
       "      <td>0.000000</td>\n",
       "      <td>0.087665</td>\n",
       "      <td>0.000000</td>\n",
       "    </tr>\n",
       "    <tr>\n",
       "      <th>20</th>\n",
       "      <td>0.000000</td>\n",
       "      <td>0.019882</td>\n",
       "      <td>0.000000</td>\n",
       "    </tr>\n",
       "    <tr>\n",
       "      <th>21</th>\n",
       "      <td>-0.036253</td>\n",
       "      <td>0.265945</td>\n",
       "      <td>0.092902</td>\n",
       "    </tr>\n",
       "  </tbody>\n",
       "</table>\n",
       "</div>"
      ],
      "text/plain": [
       "         BRR       DTR        LR\n",
       "0   0.397249  0.440605 -0.043436\n",
       "1   0.059177  0.168838  0.171882\n",
       "2   0.237261  0.143085  0.173859\n",
       "3   0.227254  0.155955  0.122554\n",
       "4   0.204278  0.267993  0.179264\n",
       "5   0.000000  0.132092  0.000000\n",
       "6   0.090728 -0.081396 -0.198486\n",
       "7   0.326025  0.243451  0.124416\n",
       "8   0.133383  1.819778  0.007859\n",
       "9  -0.003911  0.422218 -0.115544\n",
       "10 -0.012225  0.254074 -0.036218\n",
       "11  0.379145  0.368545  0.644672\n",
       "12  0.025503  0.067659  0.019108\n",
       "13  0.516373  0.022105  0.059289\n",
       "14  0.114107 -0.034407  0.000617\n",
       "15 -0.003446  0.092338  0.104981\n",
       "16  0.131671  0.120394  0.000791\n",
       "17  0.000000  0.060398  0.000000\n",
       "18  0.000000  0.048361  0.000000\n",
       "19  0.000000  0.087665  0.000000\n",
       "20  0.000000  0.019882  0.000000\n",
       "21 -0.036253  0.265945  0.092902"
      ]
     },
     "metadata": {},
     "output_type": "display_data"
    }
   ],
   "source": [
    "temp = get_improve()\n",
    "display(temp)"
   ]
  }
 ],
 "metadata": {
  "kernelspec": {
   "display_name": "Python 3",
   "language": "python",
   "name": "python3"
  },
  "language_info": {
   "codemirror_mode": {
    "name": "ipython",
    "version": 3
   },
   "file_extension": ".py",
   "mimetype": "text/x-python",
   "name": "python",
   "nbconvert_exporter": "python",
   "pygments_lexer": "ipython3",
   "version": "3.6.5"
  }
 },
 "nbformat": 4,
 "nbformat_minor": 2
}
